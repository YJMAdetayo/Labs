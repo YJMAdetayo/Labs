{
 "cells": [
  {
   "cell_type": "markdown",
   "id": "f5ef83c8",
   "metadata": {},
   "source": [
    "# Data Science Tools and Ecosystem"
   ]
  },
  {
   "cell_type": "markdown",
   "id": "4fceced2",
   "metadata": {},
   "source": [
    "In this notebook, Data Science Tools and Ecosystem are summarized."
   ]
  },
  {
   "cell_type": "markdown",
   "id": "ee836e16",
   "metadata": {},
   "source": [
    "**Objectives:**\n",
    "   - Identify Popular Languages for Data Science\n",
    "   - Identify Commonly Used Libraries \n",
    "   - Create Tables in Markdown Cells"
   ]
  },
  {
   "cell_type": "markdown",
   "id": "e663debc",
   "metadata": {},
   "source": [
    "Some of the popular languages that Data Scientists use are:\n",
    "1. Python\n",
    "2. R\n",
    "3. SQL\n",
    "4. C/C++"
   ]
  },
  {
   "cell_type": "markdown",
   "id": "d64b7ed9",
   "metadata": {},
   "source": [
    "Some of the commonly used libraries used by Data Scientists include:\n",
    "1. Pandas\n",
    "2. Sci-kit Learn\n",
    "3. MatPlotLib\n",
    "4. PyTorch"
   ]
  },
  {
   "cell_type": "markdown",
   "id": "494a6068",
   "metadata": {},
   "source": [
    "| Data Science Tools |\n",
    "| ------------------ |\n",
    "| NoSQL |\n",
    "| Git/GitHub |\n",
    "| Visual Studio Code |"
   ]
  },
  {
   "cell_type": "markdown",
   "id": "75ed22b4",
   "metadata": {},
   "source": [
    "### Below are a few examples of evaluating arithmetic expressions in Python"
   ]
  },
  {
   "cell_type": "code",
   "execution_count": 1,
   "id": "e3ac3a4d",
   "metadata": {},
   "outputs": [
    {
     "data": {
      "text/plain": [
       "17"
      ]
     },
     "execution_count": 1,
     "metadata": {},
     "output_type": "execute_result"
    }
   ],
   "source": [
    "#This a simple arithmetic expression to multiply then add integers\n",
    "(3*4)+5"
   ]
  },
  {
   "cell_type": "code",
   "execution_count": 2,
   "id": "ac07e21f",
   "metadata": {},
   "outputs": [
    {
     "name": "stdout",
     "output_type": "stream",
     "text": [
      "200 minutes in hours is 3.33  hours\n"
     ]
    }
   ],
   "source": [
    "#This will convert 200 minutes to hours by dividing by 60\n",
    "minsToHrs = 200/60\n",
    "print(\"200 minutes in hours is\", round(minsToHrs, 2), \" hours\")"
   ]
  },
  {
   "cell_type": "markdown",
   "id": "8ad5726c",
   "metadata": {},
   "source": [
    "## Author \n",
    "Yewande Adetayo"
   ]
  }
 ],
 "metadata": {
  "kernelspec": {
   "display_name": "Python 3 (ipykernel)",
   "language": "python",
   "name": "python3"
  },
  "language_info": {
   "codemirror_mode": {
    "name": "ipython",
    "version": 3
   },
   "file_extension": ".py",
   "mimetype": "text/x-python",
   "name": "python",
   "nbconvert_exporter": "python",
   "pygments_lexer": "ipython3",
   "version": "3.11.3"
  }
 },
 "nbformat": 4,
 "nbformat_minor": 5
}
